{
 "cells": [
  {
   "cell_type": "code",
   "execution_count": 3,
   "metadata": {},
   "outputs": [
    {
     "name": "stdout",
     "output_type": "stream",
     "text": [
      "Classification Accuracy: 0.9412\n",
      "\n",
      "Classification Report:\n",
      "              precision    recall  f1-score   support\n",
      "\n",
      "         0.0       1.00      1.00      1.00         2\n",
      "         1.0       1.00      1.00      1.00         5\n",
      "         2.0       1.00      1.00      1.00         5\n",
      "         3.0       0.50      1.00      0.67         1\n",
      "         4.0       1.00      0.75      0.86         4\n",
      "\n",
      "    accuracy                           0.94        17\n",
      "   macro avg       0.90      0.95      0.90        17\n",
      "weighted avg       0.97      0.94      0.95        17\n",
      "\n",
      "\n",
      "Confusion Matrix:\n",
      "[[2 0 0 0 0]\n",
      " [0 5 0 0 0]\n",
      " [0 0 5 0 0]\n",
      " [0 0 0 1 0]\n",
      " [0 0 0 1 3]]\n"
     ]
    }
   ],
   "source": [
    "import pandas as pd\n",
    "import numpy as np\n",
    "from sklearn.model_selection import train_test_split\n",
    "from sklearn.ensemble import RandomForestClassifier\n",
    "from sklearn.metrics import accuracy_score, classification_report, confusion_matrix\n",
    "from sklearn.preprocessing import StandardScaler\n",
    "\n",
    "# --- Step 1: Load Clustering Results ---\n",
    "clustering_results_path = \"data/kmeans_cosine_clustering_results_5_1-1_threshold_0.3.csv\"  # Adjust path if needed\n",
    "df_clusters = pd.read_csv(clustering_results_path)\n",
    "\n",
    "# --- Step 2: Load Processed Data ---\n",
    "file_path = \"data/notable_state_correlation_trends_filtered.csv\"\n",
    "df_input = pd.read_csv(file_path)\n",
    "\n",
    "# --- Step 3: Pivot Data for Classification ---\n",
    "df_pivot = df_input.pivot(index='State', columns=['Metric 1', 'Metric 2'], values='Correlation').fillna(0)\n",
    "\n",
    "# ✅ Flatten MultiIndex Column Names\n",
    "df_pivot.columns = ['_'.join(col).strip() for col in df_pivot.columns.values]  # Converts tuples to strings\n",
    "df_pivot.reset_index(inplace=True)  # Make \"State\" a normal column for merging\n",
    "\n",
    "# --- Step 4: Merge with Cluster Labels ---\n",
    "df_merged = df_pivot.merge(df_clusters, on=\"State\")\n",
    "\n",
    "# Extract features (X) and labels (y)\n",
    "X = df_merged.drop(columns=[\"State\", \"Cluster\"]).values\n",
    "y = df_merged[\"Cluster\"].values\n",
    "\n",
    "# --- Step 5: Train-Test Split ---\n",
    "test_size = 0.4  # Experiment with 0.4 or 0.5\n",
    "X_train, X_test, y_train, y_test = train_test_split(X, y, test_size=test_size, random_state=42)\n",
    "\n",
    "# --- Step 6: Standardize Features ---\n",
    "scaler = StandardScaler()\n",
    "X_train = scaler.fit_transform(X_train)\n",
    "X_test = scaler.transform(X_test)\n",
    "\n",
    "# --- Step 7: Train a Random Forest Classifier ---\n",
    "clf = RandomForestClassifier(n_estimators=200, random_state=42)  # Increased n_estimators for stability\n",
    "clf.fit(X_train, y_train)\n",
    "\n",
    "# --- Step 8: Evaluate Model ---\n",
    "y_pred = clf.predict(X_test)\n",
    "\n",
    "# Compute accuracy\n",
    "accuracy = accuracy_score(y_test, y_pred)\n",
    "print(f\"Classification Accuracy: {accuracy:.4f}\")\n",
    "\n",
    "# Display classification report\n",
    "print(\"\\nClassification Report:\")\n",
    "print(classification_report(y_test, y_pred))\n",
    "\n",
    "# Display confusion matrix\n",
    "print(\"\\nConfusion Matrix:\")\n",
    "print(confusion_matrix(y_test, y_pred))\n",
    "\n",
    "\n"
   ]
  },
  {
   "cell_type": "code",
   "execution_count": null,
   "metadata": {},
   "outputs": [],
   "source": []
  },
  {
   "cell_type": "code",
   "execution_count": null,
   "metadata": {},
   "outputs": [],
   "source": []
  }
 ],
 "metadata": {
  "kernelspec": {
   "display_name": "my_dev",
   "language": "python",
   "name": "python3"
  },
  "language_info": {
   "codemirror_mode": {
    "name": "ipython",
    "version": 3
   },
   "file_extension": ".py",
   "mimetype": "text/x-python",
   "name": "python",
   "nbconvert_exporter": "python",
   "pygments_lexer": "ipython3",
   "version": "3.10.15"
  }
 },
 "nbformat": 4,
 "nbformat_minor": 2
}
