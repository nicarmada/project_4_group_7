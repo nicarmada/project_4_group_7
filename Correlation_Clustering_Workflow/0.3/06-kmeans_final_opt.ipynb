{
 "cells": [
  {
   "cell_type": "code",
   "execution_count": 1,
   "metadata": {},
   "outputs": [
    {
     "name": "stdout",
     "output_type": "stream",
     "text": [
      "Filtered dataset saved to: data/clustering_input_final.csv\n",
      "PCA reduced feature dimensions from 10 to 3\n",
      "Silhouette Score for 5 clusters: 0.2442\n",
      "K-Means clustering with Cosine Similarity completed. 5 clusters assigned and saved to data/kmeans_cosine_clustering_results_5_1-1_threshold_0.3.csv!\n"
     ]
    },
    {
     "name": "stderr",
     "output_type": "stream",
     "text": [
      "C:\\Users\\nicar\\AppData\\Local\\Temp\\ipykernel_27972\\3955144721.py:30: FutureWarning: DataFrame.applymap has been deprecated. Use DataFrame.map instead.\n",
      "  df_pivot = df_pivot.applymap(reweight_correlations)\n"
     ]
    },
    {
     "data": {
      "image/png": "[encoded data removed]",
      "text/plain": [
       "<Figure size 800x500 with 1 Axes>"
      ]
     },
     "metadata": {},
     "output_type": "display_data"
    }
   ],
   "source": [
    "import numpy as np\n",
    "import pandas as pd\n",
    "import matplotlib.pyplot as plt\n",
    "from sklearn.cluster import KMeans\n",
    "from sklearn.decomposition import PCA\n",
    "from sklearn.metrics import silhouette_score\n",
    "from sklearn.preprocessing import StandardScaler\n",
    "from sklearn.metrics.pairwise import cosine_similarity\n",
    "\n",
    "# --- Step 1: Load the Updated Correlation Trends Data ---\n",
    "file_path = \"data/notable_state_correlation_trends_filtered.csv\"\n",
    "df = pd.read_csv(file_path)\n",
    "\n",
    "# --- Step 2: Thresholding: Keep Only Correlations ≥ |0.25| ---\n",
    "df_filtered = df[(df['Correlation'] >= 0.3) | (df['Correlation'] <= -0.3)]\n",
    "\n",
    "# --- Save Filtered Data Before Clustering ---\n",
    "filtered_output_path = \"data/clustering_input_final.csv\"\n",
    "df_filtered.to_csv(filtered_output_path, index=False)\n",
    "print(f\"Filtered dataset saved to: {filtered_output_path}\")\n",
    "\n",
    "# --- Step 3: Pivot Data: Transform for Clustering ---\n",
    "df_pivot = df_filtered.pivot(index='State', columns=['Metric 1', 'Metric 2'], values='Correlation').fillna(0)\n",
    "\n",
    "# --- Step 4: Re-weight Strong Correlations ---\n",
    "def reweight_correlations(x):\n",
    "    \"\"\" Apply a weight to emphasize strong correlations (above ±0.5). \"\"\"\n",
    "    return x * (1.1 if abs(x) >= 0.5 else 1.0)\n",
    "\n",
    "df_pivot = df_pivot.applymap(reweight_correlations)\n",
    "\n",
    "# Convert to numpy array for clustering\n",
    "X = df_pivot.to_numpy()\n",
    "\n",
    "# --- Step 5: Standardize Data ---\n",
    "scaler = StandardScaler()\n",
    "X_scaled = scaler.fit_transform(X)\n",
    "\n",
    "# --- Step 6: Apply PCA (Optional) ---\n",
    "pca = PCA(n_components=0.95)  # Retain 95% of variance\n",
    "X_pca = pca.fit_transform(X_scaled)\n",
    "print(f\"PCA reduced feature dimensions from {X.shape[1]} to {X_pca.shape[1]}\")\n",
    "\n",
    "# --- Step 7: Compute Cosine Similarity Matrix ---\n",
    "cosine_sim = cosine_similarity(X_pca)\n",
    "\n",
    "# --- Step 8: Run K-Means Clustering ---\n",
    "n_clusters = 5  # Manually set the number of clusters\n",
    "kmeans = KMeans(n_clusters=n_clusters, random_state=42, n_init=10)\n",
    "labels = kmeans.fit_predict(cosine_sim)\n",
    "\n",
    "# --- Step 9: Compute Silhouette Score ---\n",
    "silhouette = silhouette_score(X_pca, labels)\n",
    "print(f\"Silhouette Score for {n_clusters} clusters: {silhouette:.4f}\")\n",
    "\n",
    "# --- Step 10: Save Clustering Results ---\n",
    "df_pivot['Cluster'] = labels\n",
    "df_pivot.reset_index(inplace=True)\n",
    "clustering_output_path = f\"data/kmeans_cosine_clustering_results_{n_clusters}_1-1_threshold_0.3.csv\"\n",
    "df_pivot[['State', 'Cluster']].to_csv(clustering_output_path, index=False)\n",
    "\n",
    "print(f\"K-Means clustering with Cosine Similarity completed. {n_clusters} clusters assigned and saved to {clustering_output_path}!\")\n",
    "\n",
    "# --- Step 11: Plot Cluster Distribution ---\n",
    "plt.figure(figsize=(8, 5))\n",
    "plt.hist(labels, bins=n_clusters, edgecolor='black', alpha=0.7)\n",
    "plt.xlabel(\"Cluster\")\n",
    "plt.ylabel(\"Number of States\")\n",
    "plt.title(f\"Cluster Distribution for {n_clusters} Clusters (K-Means)\")\n",
    "plt.xticks(range(n_clusters))\n",
    "plt.grid(axis='y', linestyle='--', alpha=0.7)\n",
    "plt.show()\n"
   ]
  },
  {
   "cell_type": "code",
   "execution_count": 2,
   "metadata": {},
   "outputs": [
    {
     "name": "stdout",
     "output_type": "stream",
     "text": [
      "\n",
      "Checking for missing states during clustering...\n",
      "States missing after correlation filtering:\n",
      "North Dakota\n",
      "No states were lost after clustering.\n",
      "\n",
      "Clustering process completed successfully!\n"
     ]
    }
   ],
   "source": [
    "# --- Identify Missing States at Each Stage ---\n",
    "print(\"\\nChecking for missing states during clustering...\")\n",
    "\n",
    "# Load original cleaned dataset\n",
    "df_cleaned = pd.read_csv(\"data/cleaned_multiple_cause_of_death.csv\")\n",
    "original_states = set(df_cleaned[\"State\"].unique())\n",
    "\n",
    "# Load states after correlation filtering\n",
    "df_corr_filtered = pd.read_csv(\"data/notable_state_correlation_trends_filtered.csv\")\n",
    "correlation_states = set(df_corr_filtered[\"State\"].unique())\n",
    "\n",
    "# Load states from final clustering results\n",
    "df_clustered = pd.read_csv(\"data/weighted_clustering_results.csv\")\n",
    "clustered_states = set(df_clustered[\"State\"].unique())\n",
    "\n",
    "# Identify missing states at each stage\n",
    "missing_after_correlation = original_states - correlation_states\n",
    "missing_after_clustering = correlation_states - clustered_states\n",
    "\n",
    "# Print missing states at each stage\n",
    "if missing_after_correlation:\n",
    "    print(\"States missing after correlation filtering:\")\n",
    "    print(\", \".join(sorted(missing_after_correlation)))\n",
    "else:\n",
    "    print(\"No states were lost after correlation filtering.\")\n",
    "\n",
    "if missing_after_clustering:\n",
    "    print(\"States missing after clustering:\")\n",
    "    print(\", \".join(sorted(missing_after_clustering)))\n",
    "else:\n",
    "    print(\"No states were lost after clustering.\")\n",
    "\n",
    "print(\"\\nClustering process completed successfully!\")\n"
   ]
  },
  {
   "cell_type": "code",
   "execution_count": null,
   "metadata": {},
   "outputs": [],
   "source": []
  }
 ],
 "metadata": {
  "kernelspec": {
   "display_name": "my_dev",
   "language": "python",
   "name": "python3"
  },
  "language_info": {
   "codemirror_mode": {
    "name": "ipython",
    "version": 3
   },
   "file_extension": ".py",
   "mimetype": "text/x-python",
   "name": "python",
   "nbconvert_exporter": "python",
   "pygments_lexer": "ipython3",
   "version": "3.10.15"
  }
 },
 "nbformat": 4,
 "nbformat_minor": 2
}
